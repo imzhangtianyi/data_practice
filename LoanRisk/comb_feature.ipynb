{
 "cells": [
  {
   "cell_type": "code",
   "execution_count": 286,
   "metadata": {},
   "outputs": [],
   "source": [
    "import pandas as pd\n",
    "import EDA\n",
    "import preprocessing\n",
    "import classification\n",
    "\n",
    "column_credit = ['CustomerID', 'CheckingAccountBalance', 'DebtsPaid', 'SavingsAccountBalance',\n",
    "                 'CurrentOpenLoanApplications']\n",
    "df_credit = pd.read_csv('ds-credit.tsv', sep='\\s+', header=-1, names=column_credit)\n",
    "\n",
    "column_app = ['CustomerID', 'LoanPayoffPeriodInMonths', 'LoanReason', 'RequestedAmount', 'InterestRate',\n",
    "              'Co-Applicant']\n",
    "df_app = pd.read_csv('ds-app.tsv', sep='\\s+', header=-1, names=column_app)\n",
    "\n",
    "column_borrower = ['CustomerID', 'YearsAtCurrentEmployer', 'YearsInCurrentResidence', 'Age', 'RentOrOwnHome',\n",
    "                   'TypeOfCurrentEmployment', 'NumberOfDependantsIncludingSelf']\n",
    "df_borrower = pd.read_csv('ds-borrower.csv', sep='\\s+', index_col=False, names=column_borrower, header=0)\n",
    "\n",
    "column_result = ['CustomerID', 'WasTheLoanApproved']\n",
    "df_result = pd.read_csv('ds-result.tsv', sep='\\s+', header=-1, names=column_result)\n",
    "df_result = df_result.drop_duplicates()  # Drop the duplicated results"
   ]
  },
  {
   "cell_type": "code",
   "execution_count": 641,
   "metadata": {},
   "outputs": [],
   "source": [
    "na = preprocessing.NA(df_borrower)\n",
    "na.to_num('CustomerID')\n",
    "df_borrower = na.drop('CustomerID')\n",
    "\n",
    "na = preprocessing.NA(df_result)\n",
    "na.to_num('CustomerID')\n",
    "df_result = na.drop('CustomerID')\n",
    "\n",
    "mg = preprocessing.Merge([df_credit, df_app, df_borrower, df_result])\n",
    "df_all = mg.transform('CustomerID')\n",
    "df = df_all.loc[(df_all.WasTheLoanApproved == 'Y') | (df_all.WasTheLoanApproved == 'N')].dropna()\n",
    "df['Age'] = pd.to_numeric(df.Age)\n",
    "df['LoanPayoffPeriodInMonths'] = pd.to_numeric(df.LoanPayoffPeriodInMonths)"
   ]
  },
  {
   "cell_type": "code",
   "execution_count": 642,
   "metadata": {},
   "outputs": [],
   "source": [
    "import numpy as np"
   ]
  },
  {
   "cell_type": "code",
   "execution_count": 643,
   "metadata": {},
   "outputs": [],
   "source": [
    "df['Amount'] = df.apply(lambda x: np.log(x.RequestedAmount) / x.NumberOfDependantsIncludingSelf, 1)"
   ]
  },
  {
   "cell_type": "code",
   "execution_count": 644,
   "metadata": {},
   "outputs": [],
   "source": [
    "df['Home']=df.apply(lambda row: str(row.NumberOfDependantsIncludingSelf) + str(row.RentOrOwnHome), 1)"
   ]
  },
  {
   "cell_type": "code",
   "execution_count": 645,
   "metadata": {},
   "outputs": [],
   "source": [
    "df['JobSaving']=df.apply(lambda row: str(row.TypeOfCurrentEmployment) +'_job_' + str(row.SavingsAccountBalance) + '_saving_', 1)"
   ]
  },
  {
   "cell_type": "code",
   "execution_count": null,
   "metadata": {},
   "outputs": [],
   "source": []
  },
  {
   "cell_type": "code",
   "execution_count": 646,
   "metadata": {},
   "outputs": [],
   "source": [
    "df=df.drop('NumberOfDependantsIncludingSelf', 1)"
   ]
  },
  {
   "cell_type": "code",
   "execution_count": 647,
   "metadata": {},
   "outputs": [],
   "source": [
    "df=df.drop('RentOrOwnHome', 1)"
   ]
  },
  {
   "cell_type": "code",
   "execution_count": 648,
   "metadata": {},
   "outputs": [],
   "source": [
    "df=df.drop('TypeOfCurrentEmployment', 1)"
   ]
  },
  {
   "cell_type": "code",
   "execution_count": 649,
   "metadata": {},
   "outputs": [],
   "source": [
    "df = df.drop('CustomerID',1)\n",
    "df1 = df.drop(['RequestedAmount','Age','WasTheLoanApproved'],1)\n",
    "en = preprocessing.Encode()\n",
    "en.one_hot(df1)\n",
    "df2 = en.encoder.transform(df1)\n",
    "df = preprocessing.Encode().ordinal(df)\n",
    "\n",
    "x = pd.concat([df.RequestedAmount.reset_index(drop=True), df.Age.reset_index(drop=True), pd.DataFrame(df2.toarray())],1) \n",
    "y = df.WasTheLoanApproved.values.reshape(-1,1)"
   ]
  },
  {
   "cell_type": "code",
   "execution_count": 650,
   "metadata": {},
   "outputs": [],
   "source": [
    "from sklearn.ensemble import RandomForestClassifier"
   ]
  },
  {
   "cell_type": "code",
   "execution_count": 676,
   "metadata": {},
   "outputs": [
    {
     "name": "stderr",
     "output_type": "stream",
     "text": [
      "/home/tianyi/anaconda3/envs/insight/lib/python3.7/site-packages/sklearn/preprocessing/label.py:235: DataConversionWarning: A column-vector y was passed when a 1d array was expected. Please change the shape of y to (n_samples, ), for example using ravel().\n",
      "  y = column_or_1d(y, warn=True)\n"
     ]
    },
    {
     "data": {
      "image/png": "[encoded data removed]",
      "text/plain": [
       "<Figure size 432x288 with 1 Axes>"
      ]
     },
     "metadata": {
      "needs_background": "light"
     },
     "output_type": "display_data"
    },
    {
     "name": "stdout",
     "output_type": "stream",
     "text": [
      "0.7670365321230738\n"
     ]
    }
   ],
   "source": [
    "rf = RandomForestClassifier(n_estimators=100, random_state=42)\n",
    "classification.Roc(rf, 'predict_proba').plot(x, y)"
   ]
  },
  {
   "cell_type": "code",
   "execution_count": 652,
   "metadata": {},
   "outputs": [],
   "source": [
    "from sklearn.model_selection import cross_val_predict\n",
    "from sklearn.metrics import roc_auc_score"
   ]
  },
  {
   "cell_type": "code",
   "execution_count": 671,
   "metadata": {},
   "outputs": [
    {
     "name": "stderr",
     "output_type": "stream",
     "text": [
      "/home/tianyi/anaconda3/envs/insight/lib/python3.7/site-packages/sklearn/preprocessing/label.py:235: DataConversionWarning: A column-vector y was passed when a 1d array was expected. Please change the shape of y to (n_samples, ), for example using ravel().\n",
      "  y = column_or_1d(y, warn=True)\n"
     ]
    },
    {
     "data": {
      "text/plain": [
       "0.7943776520509195"
      ]
     },
     "execution_count": 671,
     "metadata": {},
     "output_type": "execute_result"
    }
   ],
   "source": [
    "\n",
    "ys = cross_val_predict(rf, x[:300], y[:300], cv=5, method='predict_proba')[:,1]\n",
    "roc_auc_score(y[:300], ys)"
   ]
  },
  {
   "cell_type": "code",
   "execution_count": null,
   "metadata": {},
   "outputs": [],
   "source": []
  }
 ],
 "metadata": {
  "kernelspec": {
   "display_name": "Python 3",
   "language": "python",
   "name": "python3"
  },
  "language_info": {
   "codemirror_mode": {
    "name": "ipython",
    "version": 3
   },
   "file_extension": ".py",
   "mimetype": "text/x-python",
   "name": "python",
   "nbconvert_exporter": "python",
   "pygments_lexer": "ipython3",
   "version": "3.7.1"
  }
 },
 "nbformat": 4,
 "nbformat_minor": 2
}
