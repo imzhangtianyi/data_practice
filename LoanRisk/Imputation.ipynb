{
 "cells": [
  {
   "cell_type": "code",
   "execution_count": 1,
   "metadata": {},
   "outputs": [],
   "source": [
    "import pandas as pd\n",
    "import EDA\n",
    "import preprocessing\n",
    "\n",
    "column_credit = ['CustomerID', 'CheckingAccountBalance', 'DebtsPaid', 'SavingsAccountBalance',\n",
    "                 'CurrentOpenLoanApplications']\n",
    "df_credit = pd.read_csv('ds-credit.tsv', sep='\\s+', header=-1, names=column_credit)\n",
    "\n",
    "column_app = ['CustomerID', 'LoanPayoffPeriodInMonths', 'LoanReason', 'RequestedAmount', 'InterestRate',\n",
    "              'Co-Applicant']\n",
    "df_app = pd.read_csv('ds-app.tsv', sep='\\s+', header=-1, names=column_app)\n",
    "\n",
    "column_borrower = ['CustomerID', 'YearsAtCurrentEmployer', 'YearsInCurrentResidence', 'Age', 'RentOrOwnHome',\n",
    "                   'TypeOfCurrentEmployment', 'NumberOfDependantsIncludingSelf']\n",
    "df_borrower = pd.read_csv('ds-borrower.csv', sep='\\s+', index_col=False, names=column_borrower, header=0)\n",
    "\n",
    "na = preprocessing.NA(df_borrower)\n",
    "na.to_num('CustomerID')\n",
    "df_borrower = na.drop('CustomerID')\n",
    "\n",
    "\n",
    "mg = preprocessing.Merge([df_credit, df_app, df_borrower])\n",
    "df_all = mg.transform('CustomerID')"
   ]
  },
  {
   "cell_type": "code",
   "execution_count": 2,
   "metadata": {},
   "outputs": [],
   "source": [
    "df = df_all.iloc[:, 1:]"
   ]
  },
  {
   "cell_type": "code",
   "execution_count": 3,
   "metadata": {},
   "outputs": [
    {
     "data": {
      "text/plain": [
       "15    584\n",
       "11     78\n",
       "9      76\n",
       "10     75\n",
       "4      14\n",
       "6      12\n",
       "5      10\n",
       "dtype: int64"
      ]
     },
     "execution_count": 3,
     "metadata": {},
     "output_type": "execute_result"
    }
   ],
   "source": [
    "df.notnull().sum(1).value_counts()"
   ]
  },
  {
   "cell_type": "code",
   "execution_count": 4,
   "metadata": {},
   "outputs": [],
   "source": [
    "na_index = df.notnull().sum(1) == 11\n",
    "a_index = df.notnull().sum(1) == 15\n",
    "\n",
    "df_na = df.loc[na_index]  # to be imputed\n",
    "df_a = df.loc[df.notnull().sum(1) == 15]  # train set"
   ]
  },
  {
   "cell_type": "code",
   "execution_count": 5,
   "metadata": {},
   "outputs": [
    {
     "data": {
      "text/html": [
       "<div>\n",
       "<style scoped>\n",
       "    .dataframe tbody tr th:only-of-type {\n",
       "        vertical-align: middle;\n",
       "    }\n",
       "\n",
       "    .dataframe tbody tr th {\n",
       "        vertical-align: top;\n",
       "    }\n",
       "\n",
       "    .dataframe thead th {\n",
       "        text-align: right;\n",
       "    }\n",
       "</style>\n",
       "<table border=\"1\" class=\"dataframe\">\n",
       "  <thead>\n",
       "    <tr style=\"text-align: right;\">\n",
       "      <th></th>\n",
       "      <th>CheckingAccountBalance</th>\n",
       "      <th>DebtsPaid</th>\n",
       "      <th>SavingsAccountBalance</th>\n",
       "      <th>CurrentOpenLoanApplications</th>\n",
       "      <th>LoanPayoffPeriodInMonths</th>\n",
       "      <th>LoanReason</th>\n",
       "      <th>RequestedAmount</th>\n",
       "      <th>InterestRate</th>\n",
       "      <th>Co-Applicant</th>\n",
       "      <th>YearsAtCurrentEmployer</th>\n",
       "      <th>YearsInCurrentResidence</th>\n",
       "      <th>Age</th>\n",
       "      <th>RentOrOwnHome</th>\n",
       "      <th>TypeOfCurrentEmployment</th>\n",
       "      <th>NumberOfDependantsIncludingSelf</th>\n",
       "    </tr>\n",
       "  </thead>\n",
       "  <tbody>\n",
       "    <tr>\n",
       "      <th>763</th>\n",
       "      <td>NaN</td>\n",
       "      <td>NaN</td>\n",
       "      <td>NaN</td>\n",
       "      <td>NaN</td>\n",
       "      <td>18.0</td>\n",
       "      <td>auto</td>\n",
       "      <td>5866.0</td>\n",
       "      <td>2.0</td>\n",
       "      <td>none</td>\n",
       "      <td>4</td>\n",
       "      <td>2</td>\n",
       "      <td>30</td>\n",
       "      <td>owned</td>\n",
       "      <td>skilled</td>\n",
       "      <td>1.0</td>\n",
       "    </tr>\n",
       "  </tbody>\n",
       "</table>\n",
       "</div>"
      ],
      "text/plain": [
       "    CheckingAccountBalance DebtsPaid SavingsAccountBalance  \\\n",
       "763                    NaN       NaN                   NaN   \n",
       "\n",
       "     CurrentOpenLoanApplications  LoanPayoffPeriodInMonths LoanReason  \\\n",
       "763                          NaN                      18.0       auto   \n",
       "\n",
       "     RequestedAmount  InterestRate Co-Applicant YearsAtCurrentEmployer  \\\n",
       "763           5866.0           2.0         none                      4   \n",
       "\n",
       "    YearsInCurrentResidence Age RentOrOwnHome TypeOfCurrentEmployment  \\\n",
       "763                       2  30         owned                 skilled   \n",
       "\n",
       "     NumberOfDependantsIncludingSelf  \n",
       "763                              1.0  "
      ]
     },
     "execution_count": 5,
     "metadata": {},
     "output_type": "execute_result"
    }
   ],
   "source": [
    "df_na.head(1)"
   ]
  },
  {
   "cell_type": "code",
   "execution_count": 6,
   "metadata": {},
   "outputs": [
    {
     "data": {
      "text/plain": [
       "Index(['CheckingAccountBalance', 'DebtsPaid', 'SavingsAccountBalance',\n",
       "       'CurrentOpenLoanApplications', 'LoanPayoffPeriodInMonths', 'LoanReason',\n",
       "       'RequestedAmount', 'InterestRate', 'Co-Applicant',\n",
       "       'YearsAtCurrentEmployer', 'YearsInCurrentResidence', 'Age',\n",
       "       'RentOrOwnHome', 'TypeOfCurrentEmployment',\n",
       "       'NumberOfDependantsIncludingSelf'],\n",
       "      dtype='object')"
      ]
     },
     "execution_count": 6,
     "metadata": {},
     "output_type": "execute_result"
    }
   ],
   "source": [
    "df_na.columns"
   ]
  },
  {
   "cell_type": "code",
   "execution_count": 7,
   "metadata": {},
   "outputs": [
    {
     "name": "stdout",
     "output_type": "stream",
     "text": [
      "train accuracy:\n",
      "0.5582191780821918\n",
      "cv accuracy:\n",
      "[0.36440678 0.46610169 0.43589744 0.37931034 0.43478261]\n"
     ]
    }
   ],
   "source": [
    "# combine dataframe to impute null values\n",
    "df_impute = pd.concat([df_na, df_a])\n",
    "df_impute['Age'] = pd.to_numeric(df.Age)\n",
    "\n",
    "# Ordinal encoding\n",
    "df_impute.iloc[:, 4:] = preprocessing.Encode().ordinal(df_impute.iloc[:, 4:])\n",
    "\n",
    "# Set which column to be imputed\n",
    "impute = preprocessing.Impute(df_impute)\n",
    "impute.set_train(y='CheckingAccountBalance', col=['LoanPayoffPeriodInMonths', 'LoanReason',\n",
    "       'RequestedAmount', 'InterestRate', 'Co-Applicant',\n",
    "       'YearsAtCurrentEmployer', 'YearsInCurrentResidence', 'Age',\n",
    "       'RentOrOwnHome', 'TypeOfCurrentEmployment',\n",
    "       'NumberOfDependantsIncludingSelf'])\n",
    "\n",
    "# Train\n",
    "impute.rf(4,20)"
   ]
  },
  {
   "cell_type": "code",
   "execution_count": 8,
   "metadata": {},
   "outputs": [],
   "source": [
    "# Impute\n",
    "df.loc[na_index, 'CheckingAccountBalance'] = impute.yimpute"
   ]
  },
  {
   "cell_type": "code",
   "execution_count": 9,
   "metadata": {},
   "outputs": [
    {
     "name": "stdout",
     "output_type": "stream",
     "text": [
      "train accuracy:\n",
      "0.8732876712328768\n",
      "cv accuracy:\n",
      "[0.58974359 0.58119658 0.58119658 0.5982906  0.6637931 ]\n"
     ]
    }
   ],
   "source": [
    "# combine dataframe to impute null values\n",
    "df_impute = pd.concat([df_na, df_a])\n",
    "df_impute['Age'] = pd.to_numeric(df.Age)\n",
    "\n",
    "# Ordinal encoding\n",
    "df_impute.iloc[:, 4:] = preprocessing.Encode().ordinal(df_impute.iloc[:, 4:])\n",
    "\n",
    "# Set which column to be imputed\n",
    "impute = preprocessing.Impute(df_impute)\n",
    "impute.set_train(y='DebtsPaid', col=['LoanPayoffPeriodInMonths', 'LoanReason',\n",
    "       'RequestedAmount', 'InterestRate', 'Co-Applicant',\n",
    "       'YearsAtCurrentEmployer', 'YearsInCurrentResidence', 'Age',\n",
    "       'RentOrOwnHome', 'TypeOfCurrentEmployment',\n",
    "       'NumberOfDependantsIncludingSelf'])\n",
    "\n",
    "# Train\n",
    "impute.rf(8, 40)"
   ]
  },
  {
   "cell_type": "code",
   "execution_count": 10,
   "metadata": {},
   "outputs": [],
   "source": [
    "# Impute\n",
    "df.loc[na_index, 'DebtsPaid'] = impute.yimpute"
   ]
  },
  {
   "cell_type": "code",
   "execution_count": 11,
   "metadata": {},
   "outputs": [
    {
     "name": "stdout",
     "output_type": "stream",
     "text": [
      "train accuracy:\n",
      "0.7243150684931506\n",
      "cv accuracy:\n",
      "[0.56779661 0.57627119 0.5982906  0.58974359 0.60526316]\n"
     ]
    }
   ],
   "source": [
    "# combine dataframe to impute null values\n",
    "df_impute = pd.concat([df_na, df_a])\n",
    "df_impute['Age'] = pd.to_numeric(df.Age)\n",
    "\n",
    "# Ordinal encoding\n",
    "df_impute.iloc[:, 4:] = preprocessing.Encode().ordinal(df_impute.iloc[:, 4:])\n",
    "\n",
    "# Set which column to be imputed\n",
    "impute = preprocessing.Impute(df_impute)\n",
    "impute.set_train(y='SavingsAccountBalance', col=['LoanPayoffPeriodInMonths', 'LoanReason',\n",
    "       'RequestedAmount', 'InterestRate', 'Co-Applicant',\n",
    "       'YearsAtCurrentEmployer', 'YearsInCurrentResidence', 'Age',\n",
    "       'RentOrOwnHome', 'TypeOfCurrentEmployment',\n",
    "       'NumberOfDependantsIncludingSelf'])\n",
    "\n",
    "# Train\n",
    "impute.rf(8, 40)"
   ]
  },
  {
   "cell_type": "code",
   "execution_count": 12,
   "metadata": {},
   "outputs": [],
   "source": [
    "# Impute\n",
    "df.loc[na_index, 'SavingsAccountBalance'] = impute.yimpute"
   ]
  },
  {
   "cell_type": "code",
   "execution_count": 13,
   "metadata": {},
   "outputs": [
    {
     "name": "stdout",
     "output_type": "stream",
     "text": [
      "train accuracy:\n",
      "0.696917808219178\n",
      "cv accuracy:\n"
     ]
    },
    {
     "name": "stderr",
     "output_type": "stream",
     "text": [
      "/home/tianyi/anaconda3/envs/insight/lib/python3.7/site-packages/sklearn/model_selection/_split.py:652: Warning: The least populated class in y has only 3 members, which is too few. The minimum number of members in any class cannot be less than n_splits=5.\n",
      "  % (min_groups, self.n_splits)), Warning)\n"
     ]
    },
    {
     "name": "stdout",
     "output_type": "stream",
     "text": [
      "[0.61016949 0.63559322 0.63247863 0.6637931  0.66086957]\n"
     ]
    }
   ],
   "source": [
    "# combine dataframe to impute null values\n",
    "df_impute = pd.concat([df_na, df_a])\n",
    "df_impute['Age'] = pd.to_numeric(df.Age)\n",
    "\n",
    "# Ordinal encoding\n",
    "df_impute.iloc[:, 4:] = preprocessing.Encode().ordinal(df_impute.iloc[:, 4:])\n",
    "\n",
    "# Set which column to be imputed\n",
    "impute = preprocessing.Impute(df_impute)\n",
    "impute.set_train(y='CurrentOpenLoanApplications', col=['LoanPayoffPeriodInMonths', 'LoanReason',\n",
    "       'RequestedAmount', 'InterestRate', 'Co-Applicant',\n",
    "       'YearsAtCurrentEmployer', 'YearsInCurrentResidence', 'Age',\n",
    "       'RentOrOwnHome', 'TypeOfCurrentEmployment',\n",
    "       'NumberOfDependantsIncludingSelf'])\n",
    "\n",
    "# Train\n",
    "impute.rf(4, 8)"
   ]
  },
  {
   "cell_type": "code",
   "execution_count": 14,
   "metadata": {},
   "outputs": [],
   "source": [
    "# Impute\n",
    "df.loc[na_index, 'CurrentOpenLoanApplications'] = impute.yimpute"
   ]
  },
  {
   "cell_type": "code",
   "execution_count": 15,
   "metadata": {},
   "outputs": [],
   "source": [
    "na_index = df.notnull().sum(1) == 9\n",
    "df_na = df.loc[na_index]  # to be imputed"
   ]
  },
  {
   "cell_type": "code",
   "execution_count": 16,
   "metadata": {},
   "outputs": [
    {
     "data": {
      "text/html": [
       "<div>\n",
       "<style scoped>\n",
       "    .dataframe tbody tr th:only-of-type {\n",
       "        vertical-align: middle;\n",
       "    }\n",
       "\n",
       "    .dataframe tbody tr th {\n",
       "        vertical-align: top;\n",
       "    }\n",
       "\n",
       "    .dataframe thead th {\n",
       "        text-align: right;\n",
       "    }\n",
       "</style>\n",
       "<table border=\"1\" class=\"dataframe\">\n",
       "  <thead>\n",
       "    <tr style=\"text-align: right;\">\n",
       "      <th></th>\n",
       "      <th>CheckingAccountBalance</th>\n",
       "      <th>DebtsPaid</th>\n",
       "      <th>SavingsAccountBalance</th>\n",
       "      <th>CurrentOpenLoanApplications</th>\n",
       "      <th>LoanPayoffPeriodInMonths</th>\n",
       "      <th>LoanReason</th>\n",
       "      <th>RequestedAmount</th>\n",
       "      <th>InterestRate</th>\n",
       "      <th>Co-Applicant</th>\n",
       "      <th>YearsAtCurrentEmployer</th>\n",
       "      <th>YearsInCurrentResidence</th>\n",
       "      <th>Age</th>\n",
       "      <th>RentOrOwnHome</th>\n",
       "      <th>TypeOfCurrentEmployment</th>\n",
       "      <th>NumberOfDependantsIncludingSelf</th>\n",
       "    </tr>\n",
       "  </thead>\n",
       "  <tbody>\n",
       "    <tr>\n",
       "      <th>141</th>\n",
       "      <td>none</td>\n",
       "      <td>paid</td>\n",
       "      <td>v.high</td>\n",
       "      <td>1.0</td>\n",
       "      <td>12.0</td>\n",
       "      <td>auto</td>\n",
       "      <td>1413.0</td>\n",
       "      <td>3.0</td>\n",
       "      <td>none</td>\n",
       "      <td>NaN</td>\n",
       "      <td>NaN</td>\n",
       "      <td>NaN</td>\n",
       "      <td>NaN</td>\n",
       "      <td>NaN</td>\n",
       "      <td>NaN</td>\n",
       "    </tr>\n",
       "  </tbody>\n",
       "</table>\n",
       "</div>"
      ],
      "text/plain": [
       "    CheckingAccountBalance DebtsPaid SavingsAccountBalance  \\\n",
       "141                   none      paid                v.high   \n",
       "\n",
       "     CurrentOpenLoanApplications  LoanPayoffPeriodInMonths LoanReason  \\\n",
       "141                          1.0                      12.0       auto   \n",
       "\n",
       "     RequestedAmount  InterestRate Co-Applicant YearsAtCurrentEmployer  \\\n",
       "141           1413.0           3.0         none                    NaN   \n",
       "\n",
       "    YearsInCurrentResidence  Age RentOrOwnHome TypeOfCurrentEmployment  \\\n",
       "141                     NaN  NaN           NaN                     NaN   \n",
       "\n",
       "     NumberOfDependantsIncludingSelf  \n",
       "141                              NaN  "
      ]
     },
     "execution_count": 16,
     "metadata": {},
     "output_type": "execute_result"
    }
   ],
   "source": [
    "df_na.head(1)"
   ]
  },
  {
   "cell_type": "code",
   "execution_count": 17,
   "metadata": {},
   "outputs": [
    {
     "name": "stdout",
     "output_type": "stream",
     "text": [
      "train accuracy:\n",
      "0.4332191780821918\n",
      "cv accuracy:\n",
      "[0.27118644 0.30769231 0.30769231 0.3362069  0.32758621]\n"
     ]
    }
   ],
   "source": [
    "# combine dataframe to impute null values\n",
    "df_impute = pd.concat([df_na, df_a])\n",
    "df_impute['Age'] = pd.to_numeric(df.Age)\n",
    "col = ['CheckingAccountBalance', 'DebtsPaid', 'SavingsAccountBalance',\n",
    "       'CurrentOpenLoanApplications', 'LoanPayoffPeriodInMonths', 'LoanReason',\n",
    "       'RequestedAmount', 'InterestRate', 'Co-Applicant']\n",
    "\n",
    "# Ordinal encoding\n",
    "df_impute.loc[:, col] = preprocessing.Encode().ordinal(df_impute.loc[:, col])\n",
    "\n",
    "# Set which column to be imputed\n",
    "impute = preprocessing.Impute(df_impute)\n",
    "impute.set_train(y='YearsAtCurrentEmployer', col=col)\n",
    "\n",
    "# Train\n",
    "impute.rf(4, 20)"
   ]
  },
  {
   "cell_type": "code",
   "execution_count": 18,
   "metadata": {},
   "outputs": [],
   "source": [
    "# Impute\n",
    "df.loc[na_index, 'YearsAtCurrentEmployer'] = impute.yimpute"
   ]
  },
  {
   "cell_type": "code",
   "execution_count": 19,
   "metadata": {},
   "outputs": [
    {
     "name": "stdout",
     "output_type": "stream",
     "text": [
      "train accuracy:\n",
      "0.75\n",
      "cv accuracy:\n",
      "[0.37815126 0.36134454 0.43103448 0.33913043 0.39130435]\n"
     ]
    }
   ],
   "source": [
    "# combine dataframe to impute null values\n",
    "df_impute = pd.concat([df_na, df_a])\n",
    "df_impute['Age'] = pd.to_numeric(df.Age)\n",
    "col = ['CheckingAccountBalance', 'DebtsPaid', 'SavingsAccountBalance',\n",
    "       'CurrentOpenLoanApplications', 'LoanPayoffPeriodInMonths', 'LoanReason',\n",
    "       'RequestedAmount', 'InterestRate', 'Co-Applicant']\n",
    "\n",
    "# Ordinal encoding\n",
    "df_impute.loc[:, col] = preprocessing.Encode().ordinal(df_impute.loc[:, col])\n",
    "\n",
    "# Set which column to be imputed\n",
    "impute = preprocessing.Impute(df_impute)\n",
    "impute.set_train(y='YearsInCurrentResidence', col=col)\n",
    "\n",
    "# Train\n",
    "impute.rf(7, 20)"
   ]
  },
  {
   "cell_type": "code",
   "execution_count": 20,
   "metadata": {},
   "outputs": [],
   "source": [
    "# Impute\n",
    "df.loc[na_index, 'YearsInCurrentResidence'] = impute.yimpute"
   ]
  },
  {
   "cell_type": "code",
   "execution_count": 21,
   "metadata": {},
   "outputs": [
    {
     "name": "stdout",
     "output_type": "stream",
     "text": [
      "train accuracy:\n",
      "0.8126184316627836\n",
      "cv accuracy:\n",
      "[-0.28194324 -0.2770511  -0.0503536  -0.04483446 -0.01953749]\n"
     ]
    },
    {
     "name": "stderr",
     "output_type": "stream",
     "text": [
      "/home/tianyi/anaconda3/envs/insight/lib/python3.7/site-packages/sklearn/ensemble/forest.py:246: FutureWarning: The default value of n_estimators will change from 10 in version 0.20 to 100 in 0.22.\n",
      "  \"10 in version 0.20 to 100 in 0.22.\", FutureWarning)\n"
     ]
    }
   ],
   "source": [
    "# combine dataframe to impute null values\n",
    "df_impute = pd.concat([df_na, df_a])\n",
    "df_impute['Age'] = pd.to_numeric(df.Age)\n",
    "col = ['CheckingAccountBalance', 'DebtsPaid', 'SavingsAccountBalance',\n",
    "       'CurrentOpenLoanApplications', 'LoanPayoffPeriodInMonths', 'LoanReason',\n",
    "       'RequestedAmount', 'InterestRate', 'Co-Applicant']\n",
    "\n",
    "# Ordinal encoding\n",
    "df_impute.loc[:, col] = preprocessing.Encode().ordinal(df_impute.loc[:, col])\n",
    "\n",
    "# Set which column to be imputed\n",
    "impute = preprocessing.Impute(df_impute)\n",
    "impute.set_train(y='Age', col=col)\n",
    "\n",
    "# Train\n",
    "impute.rf_reg()"
   ]
  },
  {
   "cell_type": "code",
   "execution_count": 23,
   "metadata": {},
   "outputs": [],
   "source": [
    "# Impute\n",
    "df.loc[na_index, 'Age'] = impute.yimpute"
   ]
  },
  {
   "cell_type": "code",
   "execution_count": 24,
   "metadata": {},
   "outputs": [
    {
     "name": "stdout",
     "output_type": "stream",
     "text": [
      "train accuracy:\n",
      "0.809931506849315\n",
      "cv accuracy:\n",
      "[0.71794872 0.70940171 0.7008547  0.72649573 0.70689655]\n"
     ]
    }
   ],
   "source": [
    "# combine dataframe to impute null values\n",
    "df_impute = pd.concat([df_na, df_a])\n",
    "df_impute['Age'] = pd.to_numeric(df.Age)\n",
    "col = ['CheckingAccountBalance', 'DebtsPaid', 'SavingsAccountBalance',\n",
    "       'CurrentOpenLoanApplications', 'LoanPayoffPeriodInMonths', 'LoanReason',\n",
    "       'RequestedAmount', 'InterestRate', 'Co-Applicant']\n",
    "\n",
    "# Ordinal encoding\n",
    "df_impute.loc[:, col] = preprocessing.Encode().ordinal(df_impute.loc[:, col])\n",
    "\n",
    "# Set which column to be imputed\n",
    "impute = preprocessing.Impute(df_impute)\n",
    "impute.set_train(y='RentOrOwnHome', col=col)\n",
    "\n",
    "# Train\n",
    "impute.rf(7, 20)"
   ]
  },
  {
   "cell_type": "code",
   "execution_count": 25,
   "metadata": {},
   "outputs": [],
   "source": [
    "# Impute\n",
    "df.loc[na_index, 'RentOrOwnHome'] = impute.yimpute"
   ]
  },
  {
   "cell_type": "code",
   "execution_count": 31,
   "metadata": {},
   "outputs": [
    {
     "name": "stdout",
     "output_type": "stream",
     "text": [
      "train accuracy:\n",
      "0.8373287671232876\n",
      "cv accuracy:\n",
      "[0.64705882 0.66101695 0.60683761 0.63478261 0.62608696]\n"
     ]
    }
   ],
   "source": [
    "# combine dataframe to impute null values\n",
    "df_impute = pd.concat([df_na, df_a])\n",
    "df_impute['Age'] = pd.to_numeric(df.Age)\n",
    "col = ['CheckingAccountBalance', 'DebtsPaid', 'SavingsAccountBalance',\n",
    "       'CurrentOpenLoanApplications', 'LoanPayoffPeriodInMonths', 'LoanReason',\n",
    "       'RequestedAmount', 'InterestRate', 'Co-Applicant']\n",
    "\n",
    "# Ordinal encoding\n",
    "df_impute.loc[:, col] = preprocessing.Encode().ordinal(df_impute.loc[:, col])\n",
    "\n",
    "# Set which column to be imputed\n",
    "impute = preprocessing.Impute(df_impute)\n",
    "impute.set_train(y='TypeOfCurrentEmployment', col=col)\n",
    "\n",
    "# Train\n",
    "impute.rf(8, 20)"
   ]
  },
  {
   "cell_type": "code",
   "execution_count": 32,
   "metadata": {},
   "outputs": [],
   "source": [
    "# Impute\n",
    "df.loc[na_index, 'TypeOfCurrentEmployment'] = impute.yimpute"
   ]
  },
  {
   "cell_type": "code",
   "execution_count": 33,
   "metadata": {},
   "outputs": [
    {
     "name": "stdout",
     "output_type": "stream",
     "text": [
      "train accuracy:\n",
      "0.9092465753424658\n",
      "cv accuracy:\n",
      "[0.8559322  0.83050847 0.8362069  0.82758621 0.85344828]\n"
     ]
    }
   ],
   "source": [
    "# combine dataframe to impute null values\n",
    "df_impute = pd.concat([df_na, df_a])\n",
    "df_impute['Age'] = pd.to_numeric(df.Age)\n",
    "col = ['CheckingAccountBalance', 'DebtsPaid', 'SavingsAccountBalance',\n",
    "       'CurrentOpenLoanApplications', 'LoanPayoffPeriodInMonths', 'LoanReason',\n",
    "       'RequestedAmount', 'InterestRate', 'Co-Applicant']\n",
    "\n",
    "# Ordinal encoding\n",
    "df_impute.loc[:, col] = preprocessing.Encode().ordinal(df_impute.loc[:, col])\n",
    "\n",
    "# Set which column to be imputed\n",
    "impute = preprocessing.Impute(df_impute)\n",
    "impute.set_train(y='NumberOfDependantsIncludingSelf', col=col)\n",
    "\n",
    "# Train\n",
    "impute.rf(8, 20)"
   ]
  },
  {
   "cell_type": "code",
   "execution_count": 34,
   "metadata": {},
   "outputs": [],
   "source": [
    "# Impute\n",
    "df.loc[na_index, 'NumberOfDependantsIncludingSelf'] = impute.yimpute"
   ]
  },
  {
   "cell_type": "code",
   "execution_count": 36,
   "metadata": {},
   "outputs": [],
   "source": [
    "na_index = df.notnull().sum(1) == 10\n",
    "df_na = df.loc[na_index]  # to be imputed"
   ]
  },
  {
   "cell_type": "code",
   "execution_count": 37,
   "metadata": {},
   "outputs": [
    {
     "data": {
      "text/html": [
       "<div>\n",
       "<style scoped>\n",
       "    .dataframe tbody tr th:only-of-type {\n",
       "        vertical-align: middle;\n",
       "    }\n",
       "\n",
       "    .dataframe tbody tr th {\n",
       "        vertical-align: top;\n",
       "    }\n",
       "\n",
       "    .dataframe thead th {\n",
       "        text-align: right;\n",
       "    }\n",
       "</style>\n",
       "<table border=\"1\" class=\"dataframe\">\n",
       "  <thead>\n",
       "    <tr style=\"text-align: right;\">\n",
       "      <th></th>\n",
       "      <th>CheckingAccountBalance</th>\n",
       "      <th>DebtsPaid</th>\n",
       "      <th>SavingsAccountBalance</th>\n",
       "      <th>CurrentOpenLoanApplications</th>\n",
       "      <th>LoanPayoffPeriodInMonths</th>\n",
       "      <th>LoanReason</th>\n",
       "      <th>RequestedAmount</th>\n",
       "      <th>InterestRate</th>\n",
       "      <th>Co-Applicant</th>\n",
       "      <th>YearsAtCurrentEmployer</th>\n",
       "      <th>YearsInCurrentResidence</th>\n",
       "      <th>Age</th>\n",
       "      <th>RentOrOwnHome</th>\n",
       "      <th>TypeOfCurrentEmployment</th>\n",
       "      <th>NumberOfDependantsIncludingSelf</th>\n",
       "    </tr>\n",
       "  </thead>\n",
       "  <tbody>\n",
       "    <tr>\n",
       "      <th>422</th>\n",
       "      <td>debt</td>\n",
       "      <td>paid</td>\n",
       "      <td>medium</td>\n",
       "      <td>1.0</td>\n",
       "      <td>NaN</td>\n",
       "      <td>NaN</td>\n",
       "      <td>NaN</td>\n",
       "      <td>NaN</td>\n",
       "      <td>NaN</td>\n",
       "      <td>7</td>\n",
       "      <td>3</td>\n",
       "      <td>30</td>\n",
       "      <td>owned</td>\n",
       "      <td>self</td>\n",
       "      <td>2.0</td>\n",
       "    </tr>\n",
       "  </tbody>\n",
       "</table>\n",
       "</div>"
      ],
      "text/plain": [
       "    CheckingAccountBalance DebtsPaid SavingsAccountBalance  \\\n",
       "422                   debt      paid                medium   \n",
       "\n",
       "     CurrentOpenLoanApplications  LoanPayoffPeriodInMonths LoanReason  \\\n",
       "422                          1.0                       NaN        NaN   \n",
       "\n",
       "     RequestedAmount  InterestRate Co-Applicant YearsAtCurrentEmployer  \\\n",
       "422              NaN           NaN          NaN                      7   \n",
       "\n",
       "    YearsInCurrentResidence Age RentOrOwnHome TypeOfCurrentEmployment  \\\n",
       "422                       3  30         owned                    self   \n",
       "\n",
       "     NumberOfDependantsIncludingSelf  \n",
       "422                              2.0  "
      ]
     },
     "execution_count": 37,
     "metadata": {},
     "output_type": "execute_result"
    }
   ],
   "source": [
    "df_na.head(1)"
   ]
  },
  {
   "cell_type": "code",
   "execution_count": 45,
   "metadata": {},
   "outputs": [
    {
     "name": "stdout",
     "output_type": "stream",
     "text": [
      "train accuracy:\n",
      "0.976027397260274\n",
      "cv accuracy:\n"
     ]
    },
    {
     "name": "stderr",
     "output_type": "stream",
     "text": [
      "/home/tianyi/anaconda3/envs/insight/lib/python3.7/site-packages/sklearn/model_selection/_split.py:652: Warning: The least populated class in y has only 1 members, which is too few. The minimum number of members in any class cannot be less than n_splits=5.\n",
      "  % (min_groups, self.n_splits)), Warning)\n"
     ]
    },
    {
     "name": "stdout",
     "output_type": "stream",
     "text": [
      "[0.12121212 0.1300813  0.10344828 0.19266055 0.10576923]\n"
     ]
    }
   ],
   "source": [
    "# combine dataframe to impute null values\n",
    "df_impute = pd.concat([df_na, df_a])\n",
    "df_impute['Age'] = pd.to_numeric(df.Age)\n",
    "col = ['CheckingAccountBalance', 'DebtsPaid', 'SavingsAccountBalance',\n",
    "       'CurrentOpenLoanApplications', \n",
    "       'YearsAtCurrentEmployer', 'YearsInCurrentResidence', 'Age',\n",
    "       'RentOrOwnHome', 'TypeOfCurrentEmployment',\n",
    "       'NumberOfDependantsIncludingSelf']\n",
    "\n",
    "# Ordinal encoding\n",
    "df_impute.loc[:, col] = preprocessing.Encode().ordinal(df_impute.loc[:, col])\n",
    "\n",
    "# Set which column to be imputed\n",
    "impute = preprocessing.Impute(df_impute)\n",
    "impute.set_train(y='LoanPayoffPeriodInMonths', col=col)\n",
    "\n",
    "# Train\n",
    "impute.rf()"
   ]
  },
  {
   "cell_type": "code",
   "execution_count": 46,
   "metadata": {},
   "outputs": [],
   "source": [
    "# Impute\n",
    "df.loc[na_index, 'LoanPayoffPeriodInMonths'] = impute.yimpute"
   ]
  },
  {
   "cell_type": "code",
   "execution_count": 71,
   "metadata": {},
   "outputs": [
    {
     "name": "stdout",
     "output_type": "stream",
     "text": [
      "train accuracy:\n",
      "0.7654109589041096\n",
      "cv accuracy:\n",
      "[0.51260504 0.37288136 0.47863248 0.43103448 0.49122807]\n"
     ]
    }
   ],
   "source": [
    "# combine dataframe to impute null values\n",
    "df_impute = pd.concat([df_na, df_a])\n",
    "df_impute['Age'] = pd.to_numeric(df.Age)\n",
    "col = ['CheckingAccountBalance', 'DebtsPaid', 'SavingsAccountBalance',\n",
    "       'CurrentOpenLoanApplications', \n",
    "       'YearsAtCurrentEmployer', 'YearsInCurrentResidence', 'Age',\n",
    "       'RentOrOwnHome', 'TypeOfCurrentEmployment',\n",
    "       'NumberOfDependantsIncludingSelf']\n",
    "\n",
    "# Ordinal encoding\n",
    "df_impute.loc[:, col] = preprocessing.Encode().ordinal(df_impute.loc[:, col])\n",
    "\n",
    "# Set which column to be imputed\n",
    "impute = preprocessing.Impute(df_impute)\n",
    "impute.set_train(y='LoanReason', col=col)\n",
    "\n",
    "# Train\n",
    "impute.rf(8, 20)"
   ]
  },
  {
   "cell_type": "code",
   "execution_count": 73,
   "metadata": {},
   "outputs": [],
   "source": [
    "# Impute\n",
    "df.loc[na_index, 'LoanReason'] = impute.yimpute"
   ]
  },
  {
   "cell_type": "code",
   "execution_count": 52,
   "metadata": {},
   "outputs": [
    {
     "name": "stdout",
     "output_type": "stream",
     "text": [
      "train accuracy:\n",
      "0.10159295339336849\n",
      "cv accuracy:\n",
      "[ 0.07495687  0.09651404  0.07990067 -0.00848572 -0.00158768]\n"
     ]
    }
   ],
   "source": [
    "# combine dataframe to impute null values\n",
    "df_impute = pd.concat([df_na, df_a])\n",
    "df_impute['Age'] = pd.to_numeric(df.Age)\n",
    "col = ['CheckingAccountBalance', 'DebtsPaid', 'SavingsAccountBalance',\n",
    "       'CurrentOpenLoanApplications', \n",
    "       'YearsAtCurrentEmployer', 'YearsInCurrentResidence', 'Age',\n",
    "       'RentOrOwnHome', 'TypeOfCurrentEmployment',\n",
    "       'NumberOfDependantsIncludingSelf']\n",
    "\n",
    "# Ordinal encoding\n",
    "df_impute.loc[:, col] = preprocessing.Encode().ordinal(df_impute.loc[:, col])\n",
    "\n",
    "# Set which column to be imputed\n",
    "impute = preprocessing.Impute(df_impute)\n",
    "impute.set_train(y='RequestedAmount', col=col)\n",
    "\n",
    "# Train\n",
    "impute.lasso()"
   ]
  },
  {
   "cell_type": "code",
   "execution_count": 53,
   "metadata": {},
   "outputs": [],
   "source": [
    "# Impute\n",
    "df.loc[na_index, 'RequestedAmount'] = impute.yimpute"
   ]
  },
  {
   "cell_type": "code",
   "execution_count": 57,
   "metadata": {},
   "outputs": [
    {
     "name": "stdout",
     "output_type": "stream",
     "text": [
      "train accuracy:\n",
      "0.7123287671232876\n",
      "cv accuracy:\n",
      "[0.41176471 0.43697479 0.43103448 0.3826087  0.46086957]\n"
     ]
    }
   ],
   "source": [
    "# combine dataframe to impute null values\n",
    "df_impute = pd.concat([df_na, df_a])\n",
    "df_impute['Age'] = pd.to_numeric(df.Age)\n",
    "col = ['CheckingAccountBalance', 'DebtsPaid', 'SavingsAccountBalance',\n",
    "       'CurrentOpenLoanApplications', \n",
    "       'YearsAtCurrentEmployer', 'YearsInCurrentResidence', 'Age',\n",
    "       'RentOrOwnHome', 'TypeOfCurrentEmployment',\n",
    "       'NumberOfDependantsIncludingSelf']\n",
    "\n",
    "# Ordinal encoding\n",
    "df_impute.loc[:, col] = preprocessing.Encode().ordinal(df_impute.loc[:, col])\n",
    "\n",
    "# Set which column to be imputed\n",
    "impute = preprocessing.Impute(df_impute)\n",
    "impute.set_train(y='InterestRate', col=col)\n",
    "\n",
    "# Train\n",
    "impute.rf(8,8)"
   ]
  },
  {
   "cell_type": "code",
   "execution_count": 58,
   "metadata": {},
   "outputs": [],
   "source": [
    "# Impute\n",
    "df.loc[na_index, 'InterestRate'] = impute.yimpute"
   ]
  },
  {
   "cell_type": "code",
   "execution_count": 61,
   "metadata": {},
   "outputs": [
    {
     "name": "stdout",
     "output_type": "stream",
     "text": [
      "train accuracy:\n",
      "0.9982876712328768\n",
      "cv accuracy:\n",
      "[0.8974359  0.88034188 0.88888889 0.8974359  0.89655172]\n"
     ]
    }
   ],
   "source": [
    "# combine dataframe to impute null values\n",
    "df_impute = pd.concat([df_na, df_a])\n",
    "df_impute['Age'] = pd.to_numeric(df.Age)\n",
    "col = ['CheckingAccountBalance', 'DebtsPaid', 'SavingsAccountBalance',\n",
    "       'CurrentOpenLoanApplications', \n",
    "       'YearsAtCurrentEmployer', 'YearsInCurrentResidence', 'Age',\n",
    "       'RentOrOwnHome', 'TypeOfCurrentEmployment',\n",
    "       'NumberOfDependantsIncludingSelf']\n",
    "\n",
    "# Ordinal encoding\n",
    "df_impute.loc[:, col] = preprocessing.Encode().ordinal(df_impute.loc[:, col])\n",
    "\n",
    "# Set which column to be imputed\n",
    "impute = preprocessing.Impute(df_impute)\n",
    "impute.set_train(y='Co-Applicant', col=col)\n",
    "\n",
    "# Train\n",
    "impute.rf(20,50)"
   ]
  },
  {
   "cell_type": "code",
   "execution_count": 62,
   "metadata": {},
   "outputs": [],
   "source": [
    "# Impute\n",
    "df.loc[na_index, 'Co-Applicant'] = impute.yimpute"
   ]
  },
  {
   "cell_type": "code",
   "execution_count": 65,
   "metadata": {},
   "outputs": [
    {
     "data": {
      "text/plain": [
       "CheckingAccountBalance             22\n",
       "DebtsPaid                          22\n",
       "SavingsAccountBalance              22\n",
       "CurrentOpenLoanApplications        22\n",
       "LoanPayoffPeriodInMonths           26\n",
       "LoanReason                         26\n",
       "RequestedAmount                    26\n",
       "InterestRate                       26\n",
       "Co-Applicant                       26\n",
       "YearsAtCurrentEmployer             24\n",
       "YearsInCurrentResidence            24\n",
       "Age                                24\n",
       "RentOrOwnHome                      24\n",
       "TypeOfCurrentEmployment            24\n",
       "NumberOfDependantsIncludingSelf    24\n",
       "dtype: int64"
      ]
     },
     "execution_count": 65,
     "metadata": {},
     "output_type": "execute_result"
    }
   ],
   "source": [
    "df.isnull().sum()"
   ]
  },
  {
   "cell_type": "code",
   "execution_count": 66,
   "metadata": {},
   "outputs": [],
   "source": [
    "na = preprocessing.NA(df)\n",
    "df = na.replace()"
   ]
  },
  {
   "cell_type": "code",
   "execution_count": 68,
   "metadata": {},
   "outputs": [],
   "source": [
    "import classification"
   ]
  },
  {
   "cell_type": "code",
   "execution_count": 75,
   "metadata": {},
   "outputs": [],
   "source": [
    "df['Age'] = pd.to_numeric(df.Age)\n"
   ]
  },
  {
   "cell_type": "code",
   "execution_count": 81,
   "metadata": {},
   "outputs": [
    {
     "data": {
      "text/plain": [
       "(849, 15)"
      ]
     },
     "execution_count": 81,
     "metadata": {},
     "output_type": "execute_result"
    }
   ],
   "source": [
    "df.shape"
   ]
  },
  {
   "cell_type": "code",
   "execution_count": 95,
   "metadata": {},
   "outputs": [],
   "source": [
    "column_result = ['CustomerID', 'WasTheLoanApproved']\n",
    "df_result = pd.read_csv('ds-result.tsv', sep='\\s+', header=-1, names=column_result)\n",
    "df_result = df_result.drop_duplicates()  # Drop the duplicated results\n",
    "na = preprocessing.NA(df_result)\n",
    "na.to_num('CustomerID')\n",
    "df_result = na.drop('CustomerID')"
   ]
  },
  {
   "cell_type": "code",
   "execution_count": 96,
   "metadata": {},
   "outputs": [],
   "source": [
    "df['CustomerID'] = df_all.CustomerID"
   ]
  },
  {
   "cell_type": "code",
   "execution_count": null,
   "metadata": {},
   "outputs": [],
   "source": []
  },
  {
   "cell_type": "code",
   "execution_count": 98,
   "metadata": {},
   "outputs": [],
   "source": [
    "df_new = pd.merge(df,df_result, on='CustomerID', how='outer')"
   ]
  },
  {
   "cell_type": "code",
   "execution_count": 128,
   "metadata": {},
   "outputs": [],
   "source": [
    "d = df_new.loc[(df_new.WasTheLoanApproved == 'Y') | (df_new.WasTheLoanApproved == 'N')]\n",
    "d = d.drop('CustomerID',1)\n",
    "d = preprocessing.Encode().ordinal(d)"
   ]
  },
  {
   "cell_type": "code",
   "execution_count": 129,
   "metadata": {},
   "outputs": [],
   "source": [
    "x = d.iloc[:, :-1].values\n",
    "y = d.iloc[:, -1:].values.reshape(-1,1)"
   ]
  },
  {
   "cell_type": "code",
   "execution_count": 130,
   "metadata": {},
   "outputs": [
    {
     "name": "stdout",
     "output_type": "stream",
     "text": [
      "Train set accuracy:\n",
      "0.7073578595317725\n",
      "Test set accuracy:\n",
      "0.6933333333333334\n"
     ]
    },
    {
     "name": "stderr",
     "output_type": "stream",
     "text": [
      "/home/tianyi/anaconda3/envs/insight/lib/python3.7/site-packages/sklearn/linear_model/logistic.py:433: FutureWarning: Default solver will be changed to 'lbfgs' in 0.22. Specify a solver to silence this warning.\n",
      "  FutureWarning)\n",
      "/home/tianyi/anaconda3/envs/insight/lib/python3.7/site-packages/sklearn/utils/validation.py:761: DataConversionWarning: A column-vector y was passed when a 1d array was expected. Please change the shape of y to (n_samples, ), for example using ravel().\n",
      "  y = column_or_1d(y, warn=True)\n"
     ]
    }
   ],
   "source": [
    "lr = classification.Lr(x, y)\n",
    "lr.fit()"
   ]
  },
  {
   "cell_type": "code",
   "execution_count": 131,
   "metadata": {},
   "outputs": [
    {
     "name": "stderr",
     "output_type": "stream",
     "text": [
      "/home/tianyi/anaconda3/envs/insight/lib/python3.7/site-packages/sklearn/linear_model/logistic.py:433: FutureWarning: Default solver will be changed to 'lbfgs' in 0.22. Specify a solver to silence this warning.\n",
      "  FutureWarning)\n",
      "/home/tianyi/anaconda3/envs/insight/lib/python3.7/site-packages/sklearn/utils/validation.py:761: DataConversionWarning: A column-vector y was passed when a 1d array was expected. Please change the shape of y to (n_samples, ), for example using ravel().\n",
      "  y = column_or_1d(y, warn=True)\n",
      "/home/tianyi/anaconda3/envs/insight/lib/python3.7/site-packages/sklearn/linear_model/logistic.py:433: FutureWarning: Default solver will be changed to 'lbfgs' in 0.22. Specify a solver to silence this warning.\n",
      "  FutureWarning)\n",
      "/home/tianyi/anaconda3/envs/insight/lib/python3.7/site-packages/sklearn/utils/validation.py:761: DataConversionWarning: A column-vector y was passed when a 1d array was expected. Please change the shape of y to (n_samples, ), for example using ravel().\n",
      "  y = column_or_1d(y, warn=True)\n",
      "/home/tianyi/anaconda3/envs/insight/lib/python3.7/site-packages/sklearn/linear_model/logistic.py:433: FutureWarning: Default solver will be changed to 'lbfgs' in 0.22. Specify a solver to silence this warning.\n",
      "  FutureWarning)\n",
      "/home/tianyi/anaconda3/envs/insight/lib/python3.7/site-packages/sklearn/utils/validation.py:761: DataConversionWarning: A column-vector y was passed when a 1d array was expected. Please change the shape of y to (n_samples, ), for example using ravel().\n",
      "  y = column_or_1d(y, warn=True)\n",
      "/home/tianyi/anaconda3/envs/insight/lib/python3.7/site-packages/sklearn/linear_model/logistic.py:433: FutureWarning: Default solver will be changed to 'lbfgs' in 0.22. Specify a solver to silence this warning.\n",
      "  FutureWarning)\n",
      "/home/tianyi/anaconda3/envs/insight/lib/python3.7/site-packages/sklearn/utils/validation.py:761: DataConversionWarning: A column-vector y was passed when a 1d array was expected. Please change the shape of y to (n_samples, ), for example using ravel().\n",
      "  y = column_or_1d(y, warn=True)\n",
      "/home/tianyi/anaconda3/envs/insight/lib/python3.7/site-packages/sklearn/linear_model/logistic.py:433: FutureWarning: Default solver will be changed to 'lbfgs' in 0.22. Specify a solver to silence this warning.\n",
      "  FutureWarning)\n",
      "/home/tianyi/anaconda3/envs/insight/lib/python3.7/site-packages/sklearn/utils/validation.py:761: DataConversionWarning: A column-vector y was passed when a 1d array was expected. Please change the shape of y to (n_samples, ), for example using ravel().\n",
      "  y = column_or_1d(y, warn=True)\n"
     ]
    },
    {
     "data": {
      "image/png": "[encoded data removed]",
      "text/plain": [
       "<Figure size 432x288 with 1 Axes>"
      ]
     },
     "metadata": {},
     "output_type": "display_data"
    },
    {
     "name": "stdout",
     "output_type": "stream",
     "text": [
      "0.5841293454431569\n"
     ]
    }
   ],
   "source": [
    "classification.Roc(lr.model).plot(lr.xtr, lr.ytr)"
   ]
  },
  {
   "cell_type": "code",
   "execution_count": 133,
   "metadata": {},
   "outputs": [
    {
     "data": {
      "text/plain": [
       "(849, 17)"
      ]
     },
     "execution_count": 133,
     "metadata": {},
     "output_type": "execute_result"
    }
   ],
   "source": [
    "df_new.shape"
   ]
  },
  {
   "cell_type": "code",
   "execution_count": null,
   "metadata": {},
   "outputs": [],
   "source": []
  }
 ],
 "metadata": {
  "kernelspec": {
   "display_name": "Python 3",
   "language": "python",
   "name": "python3"
  },
  "language_info": {
   "codemirror_mode": {
    "name": "ipython",
    "version": 3
   },
   "file_extension": ".py",
   "mimetype": "text/x-python",
   "name": "python",
   "nbconvert_exporter": "python",
   "pygments_lexer": "ipython3",
   "version": "3.7.1"
  }
 },
 "nbformat": 4,
 "nbformat_minor": 2
}
