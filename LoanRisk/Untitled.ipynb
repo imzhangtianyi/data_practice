{
 "cells": [
  {
   "cell_type": "code",
   "execution_count": 76,
   "metadata": {},
   "outputs": [],
   "source": [
    "import pandas as pd\n",
    "import EDA\n",
    "import preprocessing\n",
    "import classification\n",
    "\n",
    "column_credit = ['CustomerID', 'CheckingAccountBalance', 'DebtsPaid', 'SavingsAccountBalance',\n",
    "                 'CurrentOpenLoanApplications']\n",
    "df_credit = pd.read_csv('ds-credit.tsv', sep='\\s+', header=-1, names=column_credit)\n",
    "\n",
    "column_app = ['CustomerID', 'LoanPayoffPeriodInMonths', 'LoanReason', 'RequestedAmount', 'InterestRate',\n",
    "              'Co-Applicant']\n",
    "df_app = pd.read_csv('ds-app.tsv', sep='\\s+', header=-1, names=column_app)\n",
    "\n",
    "column_borrower = ['CustomerID', 'YearsAtCurrentEmployer', 'YearsInCurrentResidence', 'Age', 'RentOrOwnHome',\n",
    "                   'TypeOfCurrentEmployment', 'NumberOfDependantsIncludingSelf']\n",
    "df_borrower = pd.read_csv('ds-borrower.csv', sep='\\s+', index_col=False, names=column_borrower, header=0)\n",
    "\n",
    "column_result = ['CustomerID', 'WasTheLoanApproved']\n",
    "df_result = pd.read_csv('ds-result.tsv', sep='\\s+', header=-1, names=column_result)\n",
    "df_result = df_result.drop_duplicates()  # Drop the duplicated results"
   ]
  },
  {
   "cell_type": "code",
   "execution_count": 109,
   "metadata": {},
   "outputs": [],
   "source": [
    "na = preprocessing.NA(df_borrower)\n",
    "na.to_num('CustomerID')\n",
    "df_borrower = na.drop('CustomerID')\n",
    "\n",
    "na = preprocessing.NA(df_result)\n",
    "na.to_num('CustomerID')\n",
    "df_result = na.drop('CustomerID')\n",
    "\n",
    "mg = preprocessing.Merge([df_credit, df_app, df_borrower, df_result])\n",
    "df_all = mg.transform('CustomerID')\n",
    "df = df_all.loc[(df_all.WasTheLoanApproved == 'Y') | (df_all.WasTheLoanApproved == 'N')].dropna()\n",
    "df['Age'] = pd.to_numeric(df.Age)\n",
    "# df = preprocessing.Encode().ordinal(df)"
   ]
  },
  {
   "cell_type": "code",
   "execution_count": 112,
   "metadata": {},
   "outputs": [],
   "source": [
    "df = df.drop('CustomerID',1)"
   ]
  },
  {
   "cell_type": "code",
   "execution_count": 172,
   "metadata": {},
   "outputs": [],
   "source": [
    "df1 = df.drop(['RequestedAmount','Age','WasTheLoanApproved',],1)"
   ]
  },
  {
   "cell_type": "code",
   "execution_count": 173,
   "metadata": {},
   "outputs": [],
   "source": [
    "en = preprocessing.Encode()"
   ]
  },
  {
   "cell_type": "code",
   "execution_count": 174,
   "metadata": {},
   "outputs": [],
   "source": [
    "en.one_hot(df1)"
   ]
  },
  {
   "cell_type": "code",
   "execution_count": 175,
   "metadata": {},
   "outputs": [],
   "source": [
    "df2 = en.encoder.transform(df1)"
   ]
  },
  {
   "cell_type": "code",
   "execution_count": 176,
   "metadata": {},
   "outputs": [
    {
     "data": {
      "text/plain": [
       "(514, 77)"
      ]
     },
     "execution_count": 176,
     "metadata": {},
     "output_type": "execute_result"
    }
   ],
   "source": [
    "df2.toarray().shape"
   ]
  },
  {
   "cell_type": "code",
   "execution_count": 177,
   "metadata": {},
   "outputs": [
    {
     "data": {
      "text/plain": [
       "(514, 1)"
      ]
     },
     "execution_count": 177,
     "metadata": {},
     "output_type": "execute_result"
    }
   ],
   "source": [
    "df.RequestedAmount.values.reshape(-1,1).shape"
   ]
  },
  {
   "cell_type": "code",
   "execution_count": 70,
   "metadata": {},
   "outputs": [
    {
     "data": {
      "text/html": [
       "<div>\n",
       "<style scoped>\n",
       "    .dataframe tbody tr th:only-of-type {\n",
       "        vertical-align: middle;\n",
       "    }\n",
       "\n",
       "    .dataframe tbody tr th {\n",
       "        vertical-align: top;\n",
       "    }\n",
       "\n",
       "    .dataframe thead th {\n",
       "        text-align: right;\n",
       "    }\n",
       "</style>\n",
       "<table border=\"1\" class=\"dataframe\">\n",
       "  <thead>\n",
       "    <tr style=\"text-align: right;\">\n",
       "      <th></th>\n",
       "      <th>CustomerID</th>\n",
       "      <th>CheckingAccountBalance</th>\n",
       "      <th>DebtsPaid</th>\n",
       "      <th>SavingsAccountBalance</th>\n",
       "      <th>CurrentOpenLoanApplications</th>\n",
       "      <th>LoanPayoffPeriodInMonths</th>\n",
       "      <th>LoanReason</th>\n",
       "      <th>RequestedAmount</th>\n",
       "      <th>InterestRate</th>\n",
       "      <th>Co-Applicant</th>\n",
       "      <th>YearsAtCurrentEmployer</th>\n",
       "      <th>YearsInCurrentResidence</th>\n",
       "      <th>Age</th>\n",
       "      <th>RentOrOwnHome</th>\n",
       "      <th>TypeOfCurrentEmployment</th>\n",
       "      <th>NumberOfDependantsIncludingSelf</th>\n",
       "      <th>WasTheLoanApproved</th>\n",
       "    </tr>\n",
       "  </thead>\n",
       "  <tbody>\n",
       "    <tr>\n",
       "      <th>228</th>\n",
       "      <td>2</td>\n",
       "      <td>2</td>\n",
       "      <td>0</td>\n",
       "      <td>2</td>\n",
       "      <td>2.0</td>\n",
       "      <td>9.0</td>\n",
       "      <td>2</td>\n",
       "      <td>8.030735</td>\n",
       "      <td>1.0</td>\n",
       "      <td>2</td>\n",
       "      <td>3</td>\n",
       "      <td>1</td>\n",
       "      <td>3.496508</td>\n",
       "      <td>1</td>\n",
       "      <td>2</td>\n",
       "      <td>2.0</td>\n",
       "      <td>1</td>\n",
       "    </tr>\n",
       "    <tr>\n",
       "      <th>608</th>\n",
       "      <td>3</td>\n",
       "      <td>1</td>\n",
       "      <td>0</td>\n",
       "      <td>0</td>\n",
       "      <td>3.0</td>\n",
       "      <td>12.0</td>\n",
       "      <td>0</td>\n",
       "      <td>6.844815</td>\n",
       "      <td>4.0</td>\n",
       "      <td>2</td>\n",
       "      <td>4</td>\n",
       "      <td>1</td>\n",
       "      <td>3.332205</td>\n",
       "      <td>1</td>\n",
       "      <td>2</td>\n",
       "      <td>1.0</td>\n",
       "      <td>0</td>\n",
       "    </tr>\n",
       "    <tr>\n",
       "      <th>165</th>\n",
       "      <td>4</td>\n",
       "      <td>2</td>\n",
       "      <td>1</td>\n",
       "      <td>0</td>\n",
       "      <td>1.0</td>\n",
       "      <td>9.0</td>\n",
       "      <td>0</td>\n",
       "      <td>7.826842</td>\n",
       "      <td>2.0</td>\n",
       "      <td>2</td>\n",
       "      <td>2</td>\n",
       "      <td>3</td>\n",
       "      <td>3.931826</td>\n",
       "      <td>0</td>\n",
       "      <td>3</td>\n",
       "      <td>1.0</td>\n",
       "      <td>1</td>\n",
       "    </tr>\n",
       "    <tr>\n",
       "      <th>250</th>\n",
       "      <td>5</td>\n",
       "      <td>2</td>\n",
       "      <td>0</td>\n",
       "      <td>3</td>\n",
       "      <td>2.0</td>\n",
       "      <td>18.0</td>\n",
       "      <td>2</td>\n",
       "      <td>7.713338</td>\n",
       "      <td>2.0</td>\n",
       "      <td>2</td>\n",
       "      <td>3</td>\n",
       "      <td>0</td>\n",
       "      <td>3.218876</td>\n",
       "      <td>1</td>\n",
       "      <td>2</td>\n",
       "      <td>1.0</td>\n",
       "      <td>1</td>\n",
       "    </tr>\n",
       "    <tr>\n",
       "      <th>618</th>\n",
       "      <td>6</td>\n",
       "      <td>2</td>\n",
       "      <td>0</td>\n",
       "      <td>3</td>\n",
       "      <td>2.0</td>\n",
       "      <td>24.0</td>\n",
       "      <td>4</td>\n",
       "      <td>8.613775</td>\n",
       "      <td>3.0</td>\n",
       "      <td>2</td>\n",
       "      <td>2</td>\n",
       "      <td>3</td>\n",
       "      <td>3.784190</td>\n",
       "      <td>0</td>\n",
       "      <td>2</td>\n",
       "      <td>1.0</td>\n",
       "      <td>1</td>\n",
       "    </tr>\n",
       "  </tbody>\n",
       "</table>\n",
       "</div>"
      ],
      "text/plain": [
       "     CustomerID  CheckingAccountBalance  DebtsPaid  SavingsAccountBalance  \\\n",
       "228           2                       2          0                      2   \n",
       "608           3                       1          0                      0   \n",
       "165           4                       2          1                      0   \n",
       "250           5                       2          0                      3   \n",
       "618           6                       2          0                      3   \n",
       "\n",
       "     CurrentOpenLoanApplications  LoanPayoffPeriodInMonths  LoanReason  \\\n",
       "228                          2.0                       9.0           2   \n",
       "608                          3.0                      12.0           0   \n",
       "165                          1.0                       9.0           0   \n",
       "250                          2.0                      18.0           2   \n",
       "618                          2.0                      24.0           4   \n",
       "\n",
       "     RequestedAmount  InterestRate  Co-Applicant  YearsAtCurrentEmployer  \\\n",
       "228         8.030735           1.0             2                       3   \n",
       "608         6.844815           4.0             2                       4   \n",
       "165         7.826842           2.0             2                       2   \n",
       "250         7.713338           2.0             2                       3   \n",
       "618         8.613775           3.0             2                       2   \n",
       "\n",
       "     YearsInCurrentResidence       Age  RentOrOwnHome  \\\n",
       "228                        1  3.496508              1   \n",
       "608                        1  3.332205              1   \n",
       "165                        3  3.931826              0   \n",
       "250                        0  3.218876              1   \n",
       "618                        3  3.784190              0   \n",
       "\n",
       "     TypeOfCurrentEmployment  NumberOfDependantsIncludingSelf  \\\n",
       "228                        2                              2.0   \n",
       "608                        2                              1.0   \n",
       "165                        3                              1.0   \n",
       "250                        2                              1.0   \n",
       "618                        2                              1.0   \n",
       "\n",
       "     WasTheLoanApproved  \n",
       "228                   1  \n",
       "608                   0  \n",
       "165                   1  \n",
       "250                   1  \n",
       "618                   1  "
      ]
     },
     "execution_count": 70,
     "metadata": {},
     "output_type": "execute_result"
    }
   ],
   "source": [
    "df.head()"
   ]
  },
  {
   "cell_type": "code",
   "execution_count": 67,
   "metadata": {},
   "outputs": [],
   "source": [
    "df['Age'] = np.log(df['Age'])"
   ]
  },
  {
   "cell_type": "code",
   "execution_count": 194,
   "metadata": {},
   "outputs": [],
   "source": [
    "df = preprocessing.Encode().ordinal(df)\n",
    "\n",
    "# x = df.iloc[:, 1:-1].values\n",
    "x = pd.concat([df.RequestedAmount.reset_index(drop=True), df.Age.reset_index(drop=True), pd.DataFrame(df2.toarray())],1) \n",
    "y = df.iloc[:, -1:].values.reshape(-1,1)"
   ]
  },
  {
   "cell_type": "code",
   "execution_count": 196,
   "metadata": {},
   "outputs": [],
   "source": [
    "x['Age'] = np.log(x.Age)\n",
    "x['RequestedAmount'] = np.log(x.RequestedAmount)"
   ]
  },
  {
   "cell_type": "code",
   "execution_count": 54,
   "metadata": {},
   "outputs": [],
   "source": [
    "from sklearn.ensemble import RandomForestClassifier"
   ]
  },
  {
   "cell_type": "code",
   "execution_count": 61,
   "metadata": {},
   "outputs": [],
   "source": [
    "from sklearn.linear_model import LogisticRegression"
   ]
  },
  {
   "cell_type": "code",
   "execution_count": 71,
   "metadata": {},
   "outputs": [],
   "source": [
    "lr = LogisticRegression()"
   ]
  },
  {
   "cell_type": "code",
   "execution_count": 198,
   "metadata": {},
   "outputs": [],
   "source": [
    "rf = RandomForestClassifier()"
   ]
  },
  {
   "cell_type": "code",
   "execution_count": 180,
   "metadata": {},
   "outputs": [
    {
     "data": {
      "text/plain": [
       "RandomForestClassifier(bootstrap=True, class_weight=None, criterion='gini',\n",
       "            max_depth=None, max_features='auto', max_leaf_nodes=None,\n",
       "            min_impurity_decrease=0.0, min_impurity_split=None,\n",
       "            min_samples_leaf=1, min_samples_split=2,\n",
       "            min_weight_fraction_leaf=0.0, n_estimators=400, n_jobs=None,\n",
       "            oob_score=False, random_state=None, verbose=0,\n",
       "            warm_start=False)"
      ]
     },
     "execution_count": 180,
     "metadata": {},
     "output_type": "execute_result"
    }
   ],
   "source": [
    "rf.fit(x, y)"
   ]
  },
  {
   "cell_type": "code",
   "execution_count": 80,
   "metadata": {},
   "outputs": [],
   "source": [
    "from sklearn.model_selection import cross_val_score\n"
   ]
  },
  {
   "cell_type": "code",
   "execution_count": 10,
   "metadata": {},
   "outputs": [],
   "source": [
    "import numpy as np"
   ]
  },
  {
   "cell_type": "code",
   "execution_count": 232,
   "metadata": {},
   "outputs": [
    {
     "data": {
      "text/plain": [
       "array([0.73076923, 0.73076923, 0.75490196, 0.68627451, 0.69607843])"
      ]
     },
     "execution_count": 232,
     "metadata": {},
     "output_type": "execute_result"
    }
   ],
   "source": [
    "rf = RandomForestClassifier(n_estimators=800)\n",
    "cross_val_score(rf, x, y, cv=5)"
   ]
  },
  {
   "cell_type": "code",
   "execution_count": 86,
   "metadata": {},
   "outputs": [
    {
     "data": {
      "text/plain": [
       "array([0.66346154, 0.64423077, 0.71568627, 0.65686275, 0.68627451])"
      ]
     },
     "execution_count": 86,
     "metadata": {},
     "output_type": "execute_result"
    }
   ],
   "source": [
    "rf = RandomForestClassifier()\n",
    "cross_val_score(rf, x, y, cv=5)"
   ]
  },
  {
   "cell_type": "code",
   "execution_count": 11,
   "metadata": {},
   "outputs": [
    {
     "data": {
      "text/plain": [
       "array([14,  1,  8,  3, 12, 10, 13,  7,  2,  5,  9,  0, 11,  4,  6])"
      ]
     },
     "execution_count": 11,
     "metadata": {},
     "output_type": "execute_result"
    }
   ],
   "source": [
    "np.argsort(rf.feature_importances_)"
   ]
  },
  {
   "cell_type": "code",
   "execution_count": 239,
   "metadata": {},
   "outputs": [
    {
     "data": {
      "image/png": "[encoded data removed]",
      "text/plain": [
       "<Figure size 432x288 with 1 Axes>"
      ]
     },
     "metadata": {
      "needs_background": "light"
     },
     "output_type": "display_data"
    },
    {
     "name": "stdout",
     "output_type": "stream",
     "text": [
      "0.7424459438471759\n"
     ]
    }
   ],
   "source": [
    "classification.Roc(rf, 'predict_proba').plot(x, y)"
   ]
  },
  {
   "cell_type": "code",
   "execution_count": 235,
   "metadata": {},
   "outputs": [],
   "source": [
    "from sklearn.decomposition import \n",
    "pca = PCA(n_components=50)"
   ]
  },
  {
   "cell_type": "code",
   "execution_count": 236,
   "metadata": {},
   "outputs": [
    {
     "data": {
      "text/plain": [
       "PCA(copy=True, iterated_power='auto', n_components=50, random_state=None,\n",
       "  svd_solver='auto', tol=0.0, whiten=False)"
      ]
     },
     "execution_count": 236,
     "metadata": {},
     "output_type": "execute_result"
    }
   ],
   "source": [
    "pca.fit(x)"
   ]
  },
  {
   "cell_type": "code",
   "execution_count": 237,
   "metadata": {},
   "outputs": [
    {
     "data": {
      "text/plain": [
       "0.9927952794069369"
      ]
     },
     "execution_count": 237,
     "metadata": {},
     "output_type": "execute_result"
    }
   ],
   "source": [
    "pca.explained_variance_ratio_.sum()"
   ]
  },
  {
   "cell_type": "code",
   "execution_count": 228,
   "metadata": {},
   "outputs": [
    {
     "data": {
      "text/plain": [
       "array([[ 1.10855319,  0.96456779, -0.88457635, ..., -0.01469052,\n",
       "         0.15589871, -0.22705231],\n",
       "       [-0.28882054,  1.32951646,  0.04018193, ..., -0.0546477 ,\n",
       "         0.48365608,  0.71327675],\n",
       "       [-0.0068285 , -0.83850617,  1.43634415, ..., -0.1909525 ,\n",
       "         0.17252828, -0.19262488],\n",
       "       ...,\n",
       "       [ 0.77599486,  0.8190275 , -0.47179098, ...,  0.17188469,\n",
       "        -0.01636646,  0.10586741],\n",
       "       [-0.10955015, -0.92545268, -0.21547581, ...,  0.29415653,\n",
       "         0.03270172, -0.19490039],\n",
       "       [ 1.3660606 ,  0.54720242,  0.28324649, ..., -0.23850091,\n",
       "         0.26642178, -0.095944  ]])"
      ]
     },
     "execution_count": 228,
     "metadata": {},
     "output_type": "execute_result"
    }
   ],
   "source": [
    "pca.fit_transform(x)"
   ]
  },
  {
   "cell_type": "code",
   "execution_count": 214,
   "metadata": {},
   "outputs": [
    {
     "data": {
      "text/plain": [
       "(514, 79)"
      ]
     },
     "execution_count": 214,
     "metadata": {},
     "output_type": "execute_result"
    }
   ],
   "source": [
    "x.shape"
   ]
  },
  {
   "cell_type": "code",
   "execution_count": 187,
   "metadata": {},
   "outputs": [
    {
     "data": {
      "text/plain": [
       "array([0.73076923, 0.65384615, 0.78431373, 0.59803922, 0.66666667])"
      ]
     },
     "execution_count": 187,
     "metadata": {},
     "output_type": "execute_result"
    }
   ],
   "source": [
    "cross_val_score(xgb, x, y, cv=5)"
   ]
  },
  {
   "cell_type": "code",
   "execution_count": 188,
   "metadata": {},
   "outputs": [
    {
     "data": {
      "image/png": "[encoded data removed]",
      "text/plain": [
       "<Figure size 432x288 with 1 Axes>"
      ]
     },
     "metadata": {
      "needs_background": "light"
     },
     "output_type": "display_data"
    },
    {
     "name": "stdout",
     "output_type": "stream",
     "text": [
      "0.7179934079966868\n"
     ]
    }
   ],
   "source": [
    "classification.Roc(xgb, 'predict_proba').plot(x, y)"
   ]
  },
  {
   "cell_type": "code",
   "execution_count": 205,
   "metadata": {},
   "outputs": [
    {
     "name": "stdout",
     "output_type": "stream",
     "text": [
      "Train set accuracy:\n",
      "0.9902676399026764\n",
      "Test set accuracy:\n",
      "0.6990291262135923\n"
     ]
    }
   ],
   "source": [
    "rf = classification.rf(x, y)\n",
    "rf.fit()"
   ]
  },
  {
   "cell_type": "code",
   "execution_count": 107,
   "metadata": {},
   "outputs": [
    {
     "name": "stdout",
     "output_type": "stream",
     "text": [
      "Train set accuracy:\n",
      "0.7201946472019465\n",
      "Test set accuracy:\n",
      "0.7184466019417476\n"
     ]
    }
   ],
   "source": [
    "lr = classification.Lr(x, y)\n",
    "lr.fit()"
   ]
  },
  {
   "cell_type": "code",
   "execution_count": 108,
   "metadata": {},
   "outputs": [
    {
     "data": {
      "image/png": "[encoded data removed]",
      "text/plain": [
       "<Figure size 432x288 with 1 Axes>"
      ]
     },
     "metadata": {
      "needs_background": "light"
     },
     "output_type": "display_data"
    },
    {
     "name": "stdout",
     "output_type": "stream",
     "text": [
      "0.6893302731712369\n"
     ]
    }
   ],
   "source": [
    "classification.Roc(lr.model, 'predict_proba').plot(x, y)"
   ]
  },
  {
   "cell_type": "code",
   "execution_count": null,
   "metadata": {},
   "outputs": [],
   "source": []
  }
 ],
 "metadata": {
  "kernelspec": {
   "display_name": "Python 3",
   "language": "python",
   "name": "python3"
  },
  "language_info": {
   "codemirror_mode": {
    "name": "ipython",
    "version": 3
   },
   "file_extension": ".py",
   "mimetype": "text/x-python",
   "name": "python",
   "nbconvert_exporter": "python",
   "pygments_lexer": "ipython3",
   "version": "3.7.1"
  }
 },
 "nbformat": 4,
 "nbformat_minor": 2
}
