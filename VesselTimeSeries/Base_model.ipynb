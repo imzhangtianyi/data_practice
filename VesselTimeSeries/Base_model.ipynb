{
 "cells": [
  {
   "cell_type": "code",
   "execution_count": 13,
   "metadata": {},
   "outputs": [],
   "source": [
    "import pandas as pd\n",
    "\n",
    "import EDA\n",
    "import regression\n",
    "\n",
    "\n",
    "df = pd.read_csv('ship-data.csv')\n",
    "train_index = int(df.shape[0] * .8)\n",
    "df_train = df[:train_index]\n",
    "df_test = df[train_index:]"
   ]
  },
  {
   "cell_type": "code",
   "execution_count": 15,
   "metadata": {},
   "outputs": [],
   "source": [
    "xtr = df_train['Speed Through Water (knots)'].values.reshape(-1, 1)\n",
    "ytr = df_train['Main Engine Fuel Consumption (MT/day)'].values.reshape(-1, 1)\n",
    "\n",
    "xte = df_test['Speed Through Water (knots)'].values.reshape(-1, 1)\n",
    "yte = df_test['Main Engine Fuel Consumption (MT/day)'].values.reshape(-1, 1)"
   ]
  },
  {
   "cell_type": "code",
   "execution_count": 27,
   "metadata": {},
   "outputs": [
    {
     "name": "stdout",
     "output_type": "stream",
     "text": [
      "Train set accuracy:\n",
      "0.8662959328379267\n",
      "Test set accuracy:\n",
      "0.8742798379842545\n"
     ]
    }
   ],
   "source": [
    "model = regression.Lr(xtr, ytr)\n",
    "model.fit()"
   ]
  },
  {
   "cell_type": "code",
   "execution_count": 29,
   "metadata": {},
   "outputs": [
    {
     "data": {
      "text/plain": [
       "0.8774860448374928"
      ]
     },
     "execution_count": 29,
     "metadata": {},
     "output_type": "execute_result"
    }
   ],
   "source": [
    "model.model.fit(xtr, ytr)\n",
    "model.model.score(xte, yte)"
   ]
  },
  {
   "cell_type": "code",
   "execution_count": 32,
   "metadata": {},
   "outputs": [],
   "source": [
    "df_train = df_train.drop('Time',1)"
   ]
  },
  {
   "cell_type": "code",
   "execution_count": 35,
   "metadata": {},
   "outputs": [],
   "source": [
    "x = df_train.drop('Main Engine Fuel Consumption (MT/day)', 1).values"
   ]
  },
  {
   "cell_type": "code",
   "execution_count": 39,
   "metadata": {},
   "outputs": [],
   "source": [
    "y = df_train['Main Engine Fuel Consumption (MT/day)'].values.reshape(-1, 1)"
   ]
  },
  {
   "cell_type": "code",
   "execution_count": 41,
   "metadata": {},
   "outputs": [
    {
     "name": "stdout",
     "output_type": "stream",
     "text": [
      "Train set accuracy:\n",
      "0.9927276287920509\n",
      "Test set accuracy:\n",
      "0.9926070553213368\n"
     ]
    }
   ],
   "source": [
    "model = regression.Lr(x, y)\n",
    "model.fit()"
   ]
  },
  {
   "cell_type": "code",
   "execution_count": 42,
   "metadata": {},
   "outputs": [
    {
     "data": {
      "text/plain": [
       "Index(['Main Engine Fuel Consumption (MT/day)', 'Main Engine Using HFO (bool)',\n",
       "       'Main Engine Using MGO (bool)', 'Draft Forward (meters)',\n",
       "       'Draft Aft (meters)', 'Draft Mid-1 (meters)', 'Draft Mid-2 (meters)',\n",
       "       'Shaft Speed (RPM)', 'Shaft Torque (kNm)', 'Shaft Power (kW)',\n",
       "       'Speed Over Ground (knots)', 'Speed Through Water (knots)',\n",
       "       'Heading (degrees)', 'Rudder Angle (degrees)',\n",
       "       'Weather Service Apparent Wind Speed (knots)',\n",
       "       'Weather Service Apparent Wind Direction (degrees from bow)',\n",
       "       'Weather Service True Wind Speed (knots)',\n",
       "       'Weather Service True Wind Direction (degrees from north)',\n",
       "       'Weather Service Temperature (celsius)',\n",
       "       'Weather Service Sea Current Direction (degrees from north)',\n",
       "       'Weather Service Sea Current Speed (knots)', 'Water Depth (meters)'],\n",
       "      dtype='object')"
      ]
     },
     "execution_count": 42,
     "metadata": {},
     "output_type": "execute_result"
    }
   ],
   "source": [
    "df_train.columns"
   ]
  },
  {
   "cell_type": "code",
   "execution_count": null,
   "metadata": {},
   "outputs": [],
   "source": []
  }
 ],
 "metadata": {
  "kernelspec": {
   "display_name": "Python 3",
   "language": "python",
   "name": "python3"
  },
  "language_info": {
   "codemirror_mode": {
    "name": "ipython",
    "version": 3
   },
   "file_extension": ".py",
   "mimetype": "text/x-python",
   "name": "python",
   "nbconvert_exporter": "python",
   "pygments_lexer": "ipython3",
   "version": "3.7.1"
  }
 },
 "nbformat": 4,
 "nbformat_minor": 2
}
