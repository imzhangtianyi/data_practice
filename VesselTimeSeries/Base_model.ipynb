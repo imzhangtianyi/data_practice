{
 "cells": [
  {
   "cell_type": "code",
   "execution_count": 1,
   "metadata": {},
   "outputs": [],
   "source": [
    "import pandas as pd\n",
    "\n",
    "import EDA\n",
    "import regression\n",
    "\n",
    "\n",
    "df = pd.read_csv('ship-data.csv')\n",
    "train_index = int(df.shape[0] * .8)\n",
    "df_train = df[:train_index]\n",
    "df_test = df[train_index:]"
   ]
  },
  {
   "cell_type": "code",
   "execution_count": 2,
   "metadata": {},
   "outputs": [],
   "source": [
    "xtr = df_train['Speed Through Water (knots)'].values.reshape(-1, 1)\n",
    "ytr = df_train['Main Engine Fuel Consumption (MT/day)'].values.reshape(-1, 1)\n",
    "\n",
    "xte = df_test['Speed Through Water (knots)'].values.reshape(-1, 1)\n",
    "yte = df_test['Main Engine Fuel Consumption (MT/day)'].values.reshape(-1, 1)"
   ]
  },
  {
   "cell_type": "code",
   "execution_count": 3,
   "metadata": {},
   "outputs": [
    {
     "name": "stdout",
     "output_type": "stream",
     "text": [
      "Train set accuracy:\n",
      "0.8662959328379267\n",
      "Test set accuracy:\n",
      "0.8742798379842545\n"
     ]
    }
   ],
   "source": [
    "model = regression.Lr(xtr, ytr)\n",
    "model.fit()"
   ]
  },
  {
   "cell_type": "code",
   "execution_count": 4,
   "metadata": {},
   "outputs": [
    {
     "name": "stdout",
     "output_type": "stream",
     "text": [
      "RMSE:\n",
      "5.842914298138052\n",
      "MAE:\n",
      "4.992896387542842\n"
     ]
    }
   ],
   "source": [
    "model.model.fit(xtr, ytr)\n",
    "regression.Test(model.model, xte, yte).score()"
   ]
  },
  {
   "cell_type": "code",
   "execution_count": 5,
   "metadata": {},
   "outputs": [
    {
     "name": "stdout",
     "output_type": "stream",
     "text": [
      "Train set accuracy:\n",
      "0.9867428107840279\n",
      "Test set accuracy:\n",
      "0.9321691001392054\n"
     ]
    },
    {
     "name": "stderr",
     "output_type": "stream",
     "text": [
      "/home/tianyi/anaconda3/envs/insight/lib/python3.7/site-packages/sklearn/ensemble/forest.py:246: FutureWarning: The default value of n_estimators will change from 10 in version 0.20 to 100 in 0.22.\n",
      "  \"10 in version 0.20 to 100 in 0.22.\", FutureWarning)\n",
      "/home/tianyi/Documents/data_practice/VesselTimeSeries/regression.py:109: DataConversionWarning: A column-vector y was passed when a 1d array was expected. Please change the shape of y to (n_samples,), for example using ravel().\n",
      "  model.fit(self.xtr, self.ytr)\n"
     ]
    }
   ],
   "source": [
    "model = regression.Rf(xtr, ytr)\n",
    "model.fit()"
   ]
  },
  {
   "cell_type": "code",
   "execution_count": 6,
   "metadata": {},
   "outputs": [
    {
     "name": "stdout",
     "output_type": "stream",
     "text": [
      "RMSE:\n",
      "5.099391900727397\n",
      "MAE:\n",
      "3.1032513394634953\n"
     ]
    },
    {
     "name": "stderr",
     "output_type": "stream",
     "text": [
      "/home/tianyi/anaconda3/envs/insight/lib/python3.7/site-packages/ipykernel_launcher.py:1: DataConversionWarning: A column-vector y was passed when a 1d array was expected. Please change the shape of y to (n_samples,), for example using ravel().\n",
      "  \"\"\"Entry point for launching an IPython kernel.\n"
     ]
    }
   ],
   "source": [
    "model.model.fit(xtr, ytr)\n",
    "regression.Test(model.model, xte, yte).score()"
   ]
  },
  {
   "cell_type": "code",
   "execution_count": 2,
   "metadata": {},
   "outputs": [],
   "source": [
    "power = ['Time', 'Shaft Speed (RPM)', 'Shaft Torque (kNm)',\n",
    "       'Shaft Power (kW)']\n",
    "df_all = df.drop(power, 1)\n",
    "\n",
    "df_train = df_all[:train_index]\n",
    "df_test = df_all[train_index:]\n",
    "\n",
    "xtr = df_train.drop('Main Engine Fuel Consumption (MT/day)', 1).values\n",
    "ytr = df_train['Main Engine Fuel Consumption (MT/day)'].values.reshape(-1, 1)\n",
    "\n",
    "xte = df_test.drop('Main Engine Fuel Consumption (MT/day)', 1).values\n",
    "yte = df_test['Main Engine Fuel Consumption (MT/day)'].values.reshape(-1, 1)"
   ]
  },
  {
   "cell_type": "code",
   "execution_count": 3,
   "metadata": {},
   "outputs": [
    {
     "name": "stderr",
     "output_type": "stream",
     "text": [
      "/home/tianyi/anaconda3/envs/insight/lib/python3.7/site-packages/sklearn/ensemble/forest.py:246: FutureWarning: The default value of n_estimators will change from 10 in version 0.20 to 100 in 0.22.\n",
      "  \"10 in version 0.20 to 100 in 0.22.\", FutureWarning)\n",
      "/home/tianyi/Documents/data_practice/VesselTimeSeries/regression.py:96: DataConversionWarning: A column-vector y was passed when a 1d array was expected. Please change the shape of y to (n_samples,), for example using ravel().\n",
      "  model.fit(self.xtr, self.ytr)\n"
     ]
    },
    {
     "name": "stdout",
     "output_type": "stream",
     "text": [
      "Train set accuracy:\n",
      "0.998833857439712\n",
      "Test set accuracy:\n",
      "0.9937896481498458\n"
     ]
    }
   ],
   "source": [
    "model = regression.Rf(xtr, ytr)\n",
    "model.fit()"
   ]
  },
  {
   "cell_type": "code",
   "execution_count": 4,
   "metadata": {},
   "outputs": [
    {
     "name": "stderr",
     "output_type": "stream",
     "text": [
      "/home/tianyi/anaconda3/envs/insight/lib/python3.7/site-packages/ipykernel_launcher.py:1: DataConversionWarning: A column-vector y was passed when a 1d array was expected. Please change the shape of y to (n_samples,), for example using ravel().\n",
      "  \"\"\"Entry point for launching an IPython kernel.\n"
     ]
    },
    {
     "name": "stdout",
     "output_type": "stream",
     "text": [
      "Accuracy:\n",
      "0.9813234970108169\n",
      "RMSE:\n",
      "2.2813111169744653\n",
      "MAE:\n",
      "1.546646597082633\n"
     ]
    }
   ],
   "source": [
    "model.model.fit(xtr, ytr)\n",
    "regression.Test(model.model, xte, yte).score()"
   ]
  },
  {
   "cell_type": "code",
   "execution_count": 5,
   "metadata": {},
   "outputs": [
    {
     "data": {
      "text/html": [
       "<div>\n",
       "<style scoped>\n",
       "    .dataframe tbody tr th:only-of-type {\n",
       "        vertical-align: middle;\n",
       "    }\n",
       "\n",
       "    .dataframe tbody tr th {\n",
       "        vertical-align: top;\n",
       "    }\n",
       "\n",
       "    .dataframe thead th {\n",
       "        text-align: right;\n",
       "    }\n",
       "</style>\n",
       "<table border=\"1\" class=\"dataframe\">\n",
       "  <thead>\n",
       "    <tr style=\"text-align: right;\">\n",
       "      <th></th>\n",
       "      <th>Feature_Importance</th>\n",
       "    </tr>\n",
       "  </thead>\n",
       "  <tbody>\n",
       "    <tr>\n",
       "      <th>Speed Through Water (knots)</th>\n",
       "      <td>0.885029</td>\n",
       "    </tr>\n",
       "    <tr>\n",
       "      <th>Speed Over Ground (knots)</th>\n",
       "      <td>0.067090</td>\n",
       "    </tr>\n",
       "    <tr>\n",
       "      <th>Weather Service Apparent Wind Speed (knots)</th>\n",
       "      <td>0.014684</td>\n",
       "    </tr>\n",
       "    <tr>\n",
       "      <th>Draft Mid-2 (meters)</th>\n",
       "      <td>0.011098</td>\n",
       "    </tr>\n",
       "    <tr>\n",
       "      <th>Draft Aft (meters)</th>\n",
       "      <td>0.006370</td>\n",
       "    </tr>\n",
       "    <tr>\n",
       "      <th>Draft Forward (meters)</th>\n",
       "      <td>0.004733</td>\n",
       "    </tr>\n",
       "    <tr>\n",
       "      <th>Heading (degrees)</th>\n",
       "      <td>0.002329</td>\n",
       "    </tr>\n",
       "    <tr>\n",
       "      <th>Weather Service Temperature (celsius)</th>\n",
       "      <td>0.002234</td>\n",
       "    </tr>\n",
       "    <tr>\n",
       "      <th>Draft Mid-1 (meters)</th>\n",
       "      <td>0.001739</td>\n",
       "    </tr>\n",
       "    <tr>\n",
       "      <th>Rudder Angle (degrees)</th>\n",
       "      <td>0.001066</td>\n",
       "    </tr>\n",
       "    <tr>\n",
       "      <th>Weather Service True Wind Speed (knots)</th>\n",
       "      <td>0.000792</td>\n",
       "    </tr>\n",
       "    <tr>\n",
       "      <th>Water Depth (meters)</th>\n",
       "      <td>0.000789</td>\n",
       "    </tr>\n",
       "    <tr>\n",
       "      <th>Weather Service True Wind Direction (degrees from north)</th>\n",
       "      <td>0.000746</td>\n",
       "    </tr>\n",
       "    <tr>\n",
       "      <th>Weather Service Apparent Wind Direction (degrees from bow)</th>\n",
       "      <td>0.000684</td>\n",
       "    </tr>\n",
       "    <tr>\n",
       "      <th>Weather Service Sea Current Direction (degrees from north)</th>\n",
       "      <td>0.000245</td>\n",
       "    </tr>\n",
       "    <tr>\n",
       "      <th>Weather Service Sea Current Speed (knots)</th>\n",
       "      <td>0.000242</td>\n",
       "    </tr>\n",
       "    <tr>\n",
       "      <th>Main Engine Using HFO (bool)</th>\n",
       "      <td>0.000088</td>\n",
       "    </tr>\n",
       "    <tr>\n",
       "      <th>Main Engine Using MGO (bool)</th>\n",
       "      <td>0.000041</td>\n",
       "    </tr>\n",
       "  </tbody>\n",
       "</table>\n",
       "</div>"
      ],
      "text/plain": [
       "                                                    Feature_Importance\n",
       "Speed Through Water (knots)                                   0.885029\n",
       "Speed Over Ground (knots)                                     0.067090\n",
       "Weather Service Apparent Wind Speed (knots)                   0.014684\n",
       "Draft Mid-2 (meters)                                          0.011098\n",
       "Draft Aft (meters)                                            0.006370\n",
       "Draft Forward (meters)                                        0.004733\n",
       "Heading (degrees)                                             0.002329\n",
       "Weather Service Temperature (celsius)                         0.002234\n",
       "Draft Mid-1 (meters)                                          0.001739\n",
       "Rudder Angle (degrees)                                        0.001066\n",
       "Weather Service True Wind Speed (knots)                       0.000792\n",
       "Water Depth (meters)                                          0.000789\n",
       "Weather Service True Wind Direction (degrees fr...            0.000746\n",
       "Weather Service Apparent Wind Direction (degree...            0.000684\n",
       "Weather Service Sea Current Direction (degrees ...            0.000245\n",
       "Weather Service Sea Current Speed (knots)                     0.000242\n",
       "Main Engine Using HFO (bool)                                  0.000088\n",
       "Main Engine Using MGO (bool)                                  0.000041"
      ]
     },
     "execution_count": 5,
     "metadata": {},
     "output_type": "execute_result"
    }
   ],
   "source": [
    "model.feature_importance(df_train.drop('Main Engine Fuel Consumption (MT/day)', 1).columns)"
   ]
  },
  {
   "cell_type": "code",
   "execution_count": null,
   "metadata": {},
   "outputs": [],
   "source": []
  }
 ],
 "metadata": {
  "kernelspec": {
   "display_name": "Python 3",
   "language": "python",
   "name": "python3"
  },
  "language_info": {
   "codemirror_mode": {
    "name": "ipython",
    "version": 3
   },
   "file_extension": ".py",
   "mimetype": "text/x-python",
   "name": "python",
   "nbconvert_exporter": "python",
   "pygments_lexer": "ipython3",
   "version": "3.7.1"
  }
 },
 "nbformat": 4,
 "nbformat_minor": 2
}
